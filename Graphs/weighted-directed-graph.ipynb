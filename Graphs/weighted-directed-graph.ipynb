{
 "cells": [
  {
   "cell_type": "markdown",
   "metadata": {},
   "source": [
    "# Weighted Directed Graph Implementation\n",
    "\n",
    "\n",
    "\n",
    "Following is the Python implementation of a weighted directed graph using an adjacency list.\n",
    "\n",
    "![image](https://www.techiedelight.com/wp-content/uploads/2016/11/Weighted-Directed-Graph.png)"
   ]
  },
  {
   "cell_type": "code",
   "execution_count": 1,
   "metadata": {},
   "outputs": [
    {
     "name": "stdout",
     "output_type": "stream",
     "text": [
      "(0 -> 1, 6)\n",
      "(1 -> 2, 7)\n",
      "(2 -> 0, 5)(2 -> 1, 4)\n",
      "(3 -> 2, 10)\n",
      "(4 -> 5, 1)\n",
      "(5 -> 4, 3)\n"
     ]
    }
   ],
   "source": [
    "class Edge : \n",
    "    def __init__(self, src, dest, weight) :\n",
    "        self.src = src\n",
    "        self.dest = dest\n",
    "        self.weight = weight\n",
    "\n",
    "\n",
    "class Node :\n",
    "    def __init__(self, value, weight) :\n",
    "        self.value = value\n",
    "        self.weight = weight\n",
    " \n",
    "\n",
    "class Graph :\n",
    "    def __init__(self, edges, N) :\n",
    "        self.adj = [None] * N\n",
    "        \n",
    "        for i in range (N) :\n",
    "            self.adj[i] = []\n",
    "            \n",
    "        for e in edges :\n",
    "            node = Node(e.dest, e.weight) \n",
    "            self.adj[e.src].append(node)\n",
    "  \n",
    "\n",
    "def printgraph(graph) :\n",
    "    for src in range(len(graph.adj)) :\n",
    "        for edge in graph.adj[src] :\n",
    "            print(f'({src} -> {edge.value}, {edge.weight})', end = '')\n",
    "        print()\n",
    "        \n",
    "  \n",
    "\n",
    "def main() :\n",
    "    edges = [Edge(0, 1, 6), Edge(1, 2, 7), Edge(2, 0, 5),\n",
    "             Edge(2, 1, 4), Edge(3, 2, 10), Edge(4, 5, 1), \n",
    "             Edge(5, 4, 3)]\n",
    "    N = 6\n",
    "    graph = Graph(edges, N)\n",
    "    printgraph(graph)\n",
    "    \n",
    "\n",
    "    \n",
    "if __name__ == '__main__' :\n",
    "    main()"
   ]
  },
  {
   "cell_type": "code",
   "execution_count": null,
   "metadata": {},
   "outputs": [],
   "source": []
  }
 ],
 "metadata": {
  "kernelspec": {
   "display_name": "Python 3",
   "language": "python",
   "name": "python3"
  },
  "language_info": {
   "codemirror_mode": {
    "name": "ipython",
    "version": 3
   },
   "file_extension": ".py",
   "mimetype": "text/x-python",
   "name": "python",
   "nbconvert_exporter": "python",
   "pygments_lexer": "ipython3",
   "version": "3.8.5"
  }
 },
 "nbformat": 4,
 "nbformat_minor": 4
}
