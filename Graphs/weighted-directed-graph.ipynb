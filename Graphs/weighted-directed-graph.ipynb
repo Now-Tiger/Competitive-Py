{
  "nbformat": 4,
  "nbformat_minor": 0,
  "metadata": {
    "colab": {
      "name": "weighted-directed-graph.ipynb",
      "provenance": []
    },
    "kernelspec": {
      "name": "python3",
      "display_name": "Python 3"
    },
    "language_info": {
      "name": "python"
    }
  },
  "cells": [
    {
      "cell_type": "markdown",
      "metadata": {
        "id": "z36X98lIz6ck"
      },
      "source": [
        "# Weighted Directed Graph Implementation\n",
        "\n",
        "Following is the Python implementation of a weighted directed graph using an adjacency list."
      ]
    },
    {
      "cell_type": "markdown",
      "metadata": {
        "id": "rSHm6-MAz2PN"
      },
      "source": [
        "![image](https://www.techiedelight.com/wp-content/uploads/2016/11/Weighted-Directed-Graph.png)"
      ]
    },
    {
      "cell_type": "code",
      "metadata": {
        "colab": {
          "base_uri": "https://localhost:8080/"
        },
        "id": "ezotGQL9z5lE",
        "outputId": "e63ccfd1-d726-4c3a-ed74-af387091ae6c"
      },
      "source": [
        "class Edge :                                                                # A class to store a graph edge\n",
        "  def __init__(self, src, dest, weight) :\n",
        "    self.src = src\n",
        "    self.dest = dest\n",
        "    self.weight = weight \n",
        "\n",
        "class Node :                                                                # A class to store adjacency list nodes\n",
        "  def __init__(self, value, weight) :\n",
        "    self.value = value\n",
        "    self.weight = weight\n",
        "\n",
        "class Graph :                                                               # A class to represent a graph object\n",
        "  def __init__(self, edges, N) :\n",
        "    self.adj = [None] * N \n",
        "    \n",
        "    for i in range(N) :                                                     # Allocate memory for adjacency list\n",
        "      self.adj[i] = []\n",
        "\n",
        "    for e in edges :\n",
        "      node = Node(e.dest, e.weight) \n",
        "      self.adj[e.src].append(node)\n",
        "\n",
        "\n",
        "def printgraph(graph) :                                                     # Function to print adjacency list representation of a graph\n",
        "  for src in range(len(graph.adj)) :\n",
        "    for edge in graph.adj[src] :\n",
        "      print(f'({src} -> {edge.value}, {edge.weight})', end = '')\n",
        "    print()\n",
        "\n",
        "\n",
        "def main() :\n",
        "  # Edge `(x, y, w)` represents an edge from `x` to `y` having weight `w`\n",
        "  edges = [\n",
        "           Edge(0, 1, 6), Edge(1, 2, 7), Edge(2, 0, 5), \n",
        "           Edge(2, 1, 4), Edge(3, 2, 10), Edge(4, 5, 1), \n",
        "           Edge(5, 4, 3)\n",
        "           ]\n",
        "  N = 6\n",
        "  graph = Graph(edges, N)\n",
        "  printgraph(graph)\n",
        "\n",
        "# Driver code :\n",
        "if __name__ == '__main__' :\n",
        "  main()"
      ],
      "execution_count": 7,
      "outputs": [
        {
          "output_type": "stream",
          "name": "stdout",
          "text": [
            "(0 -> 1, 6)\n",
            "(1 -> 2, 7)\n",
            "(2 -> 0, 5)(2 -> 1, 4)\n",
            "(3 -> 2, 10)\n",
            "(4 -> 5, 1)\n",
            "(5 -> 4, 3)\n"
          ]
        }
      ]
    },
    {
      "cell_type": "code",
      "metadata": {
        "id": "skFPggn12TJU"
      },
      "source": [
        ""
      ],
      "execution_count": null,
      "outputs": []
    }
  ]
}