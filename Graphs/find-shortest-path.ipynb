{
 "cells": [
  {
   "cell_type": "markdown",
   "id": "6b6be3bd",
   "metadata": {},
   "source": [
    "### Building an undirected graph and finding shortest path using Dictionaries in Python"
   ]
  },
  {
   "cell_type": "markdown",
   "id": "f07093d8",
   "metadata": {},
   "source": [
    "\n",
    "![](https://media.geeksforgeeks.org/wp-content/uploads/20200617040109/cool.jpg)\n",
    "\n",
    "### Breadth First Search approach :"
   ]
  },
  {
   "cell_type": "code",
   "execution_count": 1,
   "id": "c8edf90d",
   "metadata": {},
   "outputs": [],
   "source": [
    "graph = {'A': ['B', 'E', 'C'],\n",
    "            'B': ['A', 'D', 'E'],\n",
    "            'C': ['A', 'F', 'G'],\n",
    "            'D': ['B', 'E'],\n",
    "            'E': ['A', 'B', 'D'],\n",
    "            'F': ['C'],\n",
    "            'G': ['C']}"
   ]
  },
  {
   "cell_type": "code",
   "execution_count": 2,
   "id": "8872d2a5",
   "metadata": {},
   "outputs": [],
   "source": [
    "\n",
    "def find_shortest_path(graph, start, goal) :\n",
    "    explored = []\n",
    "    queue = [[start]]\n",
    "    \n",
    "    if start == goal :\n",
    "        print('Same node')\n",
    "        return \n",
    "    \n",
    "    while queue :\n",
    "        path = queue.pop(0)\n",
    "        node = path[-1]\n",
    "        \n",
    "        if node not in explored :\n",
    "            neighbours = graph[node]\n",
    "            \n",
    "            for neighbour in neighbours :\n",
    "                newpath = list(path)\n",
    "                newpath.append(neighbour)\n",
    "                queue.append(newpath)\n",
    "                \n",
    "                if neighbour == goal :\n",
    "                    print('Shortest path :', *newpath)\n",
    "                    return\n",
    "            explored.append(node)\n",
    "    print('Sorry, but connection path does not exist')\n",
    "    return\n"
   ]
  },
  {
   "cell_type": "code",
   "execution_count": 3,
   "id": "c4bc8a96",
   "metadata": {},
   "outputs": [
    {
     "name": "stdout",
     "output_type": "stream",
     "text": [
      "Shortest path : B A C F\n",
      "Wall time: 0 ns\n"
     ]
    }
   ],
   "source": [
    "%%time\n",
    "if __name__ == '__main__' :\n",
    "    find_shortest_path(graph, 'B', 'F')\n",
    "    "
   ]
  },
  {
   "cell_type": "code",
   "execution_count": null,
   "id": "5791804e",
   "metadata": {},
   "outputs": [],
   "source": []
  }
 ],
 "metadata": {
  "kernelspec": {
   "display_name": "Python 3",
   "language": "python",
   "name": "python3"
  },
  "language_info": {
   "codemirror_mode": {
    "name": "ipython",
    "version": 3
   },
   "file_extension": ".py",
   "mimetype": "text/x-python",
   "name": "python",
   "nbconvert_exporter": "python",
   "pygments_lexer": "ipython3",
   "version": "3.8.10"
  }
 },
 "nbformat": 4,
 "nbformat_minor": 5
}
