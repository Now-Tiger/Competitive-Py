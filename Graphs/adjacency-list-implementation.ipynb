{
 "cells": [
  {
   "cell_type": "markdown",
   "id": "456bc89b",
   "metadata": {},
   "source": [
    "## Adjacency list implementation\n",
    "\n",
    "\n",
    "\n",
    "![](https://www.softwaretestinghelp.com/wp-content/qa/uploads/2019/08/7.undirected-graph-and-its-adjacency-list.png)"
   ]
  },
  {
   "cell_type": "code",
   "execution_count": 1,
   "id": "795f7cd3",
   "metadata": {},
   "outputs": [],
   "source": [
    "adj_list = {'A': ['B', 'C'], \n",
    "            'B': ['A', 'E'],\n",
    "            'C': ['A', 'D'],\n",
    "            'D': ['C', 'E'],\n",
    "            'E': ['B', 'D']}"
   ]
  },
  {
   "cell_type": "code",
   "execution_count": 2,
   "id": "c863dbc6",
   "metadata": {},
   "outputs": [
    {
     "data": {
      "text/plain": [
       "['B', 'C']"
      ]
     },
     "execution_count": 2,
     "metadata": {},
     "output_type": "execute_result"
    }
   ],
   "source": [
    "adj_list['A']"
   ]
  },
  {
   "cell_type": "markdown",
   "id": "0bf34f52",
   "metadata": {},
   "source": [
    "### Adding a new edge A - D\n",
    "- If we want to add an edge between two points/nodes.\n",
    "- following is the right way but not the the perfect (not a good programming practice)"
   ]
  },
  {
   "cell_type": "code",
   "execution_count": 3,
   "id": "b8568d54",
   "metadata": {},
   "outputs": [],
   "source": [
    "adj_list['A'].append('D')\n",
    "adj_list['D'].append('A')"
   ]
  },
  {
   "cell_type": "code",
   "execution_count": 4,
   "id": "257d8b7f",
   "metadata": {},
   "outputs": [
    {
     "data": {
      "text/plain": [
       "{'A': ['B', 'C', 'D'],\n",
       " 'B': ['A', 'E'],\n",
       " 'C': ['A', 'D'],\n",
       " 'D': ['C', 'E', 'A'],\n",
       " 'E': ['B', 'D']}"
      ]
     },
     "execution_count": 4,
     "metadata": {},
     "output_type": "execute_result"
    }
   ],
   "source": [
    "adj_list"
   ]
  },
  {
   "cell_type": "code",
   "execution_count": null,
   "id": "b31f3044",
   "metadata": {},
   "outputs": [],
   "source": []
  },
  {
   "cell_type": "markdown",
   "id": "0fd3f124",
   "metadata": {},
   "source": [
    "### Implementation of graph using class.\n",
    "\n",
    "\n",
    "- Part 1."
   ]
  },
  {
   "cell_type": "code",
   "execution_count": 5,
   "id": "a29e7bdb",
   "metadata": {},
   "outputs": [],
   "source": [
    "\n",
    "class Graph:\n",
    "    \n",
    "    def __init__(self, Nodes) :\n",
    "        self.nodes = Nodes\n",
    "        self.adj_list = {} \n",
    "        ''' Initially we initialize our adjacency list \n",
    "            as empty using dictionary here '''\n",
    "        \n",
    "        for node in self.nodes : \n",
    "            self.adj_list[node] = []\n",
    "            ''' We need to add all the vertices to our adjacency list, \n",
    "                at first these vertices are empty '''\n",
    "            \n",
    "    def print_adj_list(self) :\n",
    "        for node in self.nodes : \n",
    "            print(node, '->', self.adj_list[node])\n",
    "            "
   ]
  },
  {
   "cell_type": "code",
   "execution_count": 6,
   "id": "d139d706",
   "metadata": {},
   "outputs": [
    {
     "name": "stdout",
     "output_type": "stream",
     "text": [
      "A -> []\n",
      "B -> []\n",
      "C -> []\n",
      "D -> []\n",
      "E -> []\n"
     ]
    }
   ],
   "source": [
    "nodes = [\"A\", \"B\", \"C\", \"D\", \"E\"]\n",
    "graph = Graph(nodes)\n",
    "graph.print_adj_list()"
   ]
  },
  {
   "cell_type": "markdown",
   "id": "b61113be",
   "metadata": {},
   "source": [
    "- Part 2 : Whole program."
   ]
  },
  {
   "cell_type": "code",
   "execution_count": 7,
   "id": "1e0feb0d",
   "metadata": {},
   "outputs": [],
   "source": [
    "# We can see there are total 6 edges in our graph conecting all vertices/nodes.\n",
    "\n",
    "all_edges = [('A', 'B'), ('A', 'C'), ('C', 'D'), ('D', 'A'), ('D', 'E'), ('B', 'E')]"
   ]
  },
  {
   "cell_type": "code",
   "execution_count": 8,
   "id": "f36a97c0",
   "metadata": {},
   "outputs": [],
   "source": [
    "\n",
    "class Graph:\n",
    "    \n",
    "    def __init__(self, Nodes) :\n",
    "        self.nodes = Nodes\n",
    "        self.adj_list = {} \n",
    "        ''' Initially we initialize our adjacency list \n",
    "            as empty using dictionary here '''\n",
    "        \n",
    "        for node in self.nodes : \n",
    "            self.adj_list[node] = []\n",
    "            ''' We need to add all the vertices to our adjacency list, \n",
    "                at first these vertices are empty '''\n",
    "    \n",
    "    def add_edge(self, u, v) :\n",
    "        self.adj_list[u].append(v)\n",
    "        self.adj_list[v].append(u)\n",
    "    \n",
    "    \n",
    "    def print_adj_list(self) :\n",
    "        for node in self.nodes : \n",
    "            print(node, '->', self.adj_list[node])\n",
    "            "
   ]
  },
  {
   "cell_type": "code",
   "execution_count": 9,
   "id": "a3a683d2",
   "metadata": {},
   "outputs": [
    {
     "name": "stdout",
     "output_type": "stream",
     "text": [
      "A -> ['B', 'C', 'D']\n",
      "B -> ['A', 'E']\n",
      "C -> ['A', 'D']\n",
      "D -> ['C', 'A', 'E']\n",
      "E -> ['D', 'B']\n"
     ]
    }
   ],
   "source": [
    "nodes = [\"A\", \"B\", \"C\", \"D\", \"E\"]\n",
    "graph = Graph(nodes)\n",
    "\n",
    "for u, v in all_edges :\n",
    "    graph.add_edge(u, v)\n",
    "\n",
    "graph.print_adj_list()"
   ]
  },
  {
   "cell_type": "code",
   "execution_count": null,
   "id": "01f220c3",
   "metadata": {},
   "outputs": [],
   "source": []
  }
 ],
 "metadata": {
  "kernelspec": {
   "display_name": "Python 3",
   "language": "python",
   "name": "python3"
  },
  "language_info": {
   "codemirror_mode": {
    "name": "ipython",
    "version": 3
   },
   "file_extension": ".py",
   "mimetype": "text/x-python",
   "name": "python",
   "nbconvert_exporter": "python",
   "pygments_lexer": "ipython3",
   "version": "3.8.10"
  }
 },
 "nbformat": 4,
 "nbformat_minor": 5
}
