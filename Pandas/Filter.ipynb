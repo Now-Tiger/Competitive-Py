{
 "cells": [
  {
   "cell_type": "code",
   "execution_count": 1,
   "id": "85f675df",
   "metadata": {},
   "outputs": [],
   "source": [
    "import pandas as pd\n",
    "\n",
    "from warnings import filterwarnings\n",
    "filterwarnings(\"ignore\")"
   ]
  },
  {
   "cell_type": "code",
   "execution_count": 2,
   "id": "93a11b55",
   "metadata": {},
   "outputs": [],
   "source": [
    "data = {'first': [\"Pearson\", \"John\", \"Jackson\"],\n",
    "        'last': [\"Hardman\", \"Doe\", \"Doe\"], \n",
    "        'email': [\"pearsonhardman@email.com\", \"johndoe@email.com\", \"jacksondoe@gmail.com\"]\n",
    "       }"
   ]
  },
  {
   "cell_type": "code",
   "execution_count": 3,
   "id": "37ca2e22",
   "metadata": {},
   "outputs": [
    {
     "data": {
      "text/html": [
       "<div>\n",
       "<style scoped>\n",
       "    .dataframe tbody tr th:only-of-type {\n",
       "        vertical-align: middle;\n",
       "    }\n",
       "\n",
       "    .dataframe tbody tr th {\n",
       "        vertical-align: top;\n",
       "    }\n",
       "\n",
       "    .dataframe thead th {\n",
       "        text-align: right;\n",
       "    }\n",
       "</style>\n",
       "<table border=\"1\" class=\"dataframe\">\n",
       "  <thead>\n",
       "    <tr style=\"text-align: right;\">\n",
       "      <th></th>\n",
       "      <th>first</th>\n",
       "      <th>last</th>\n",
       "      <th>email</th>\n",
       "    </tr>\n",
       "  </thead>\n",
       "  <tbody>\n",
       "    <tr>\n",
       "      <th>0</th>\n",
       "      <td>Pearson</td>\n",
       "      <td>Hardman</td>\n",
       "      <td>pearsonhardman@email.com</td>\n",
       "    </tr>\n",
       "    <tr>\n",
       "      <th>1</th>\n",
       "      <td>John</td>\n",
       "      <td>Doe</td>\n",
       "      <td>johndoe@email.com</td>\n",
       "    </tr>\n",
       "    <tr>\n",
       "      <th>2</th>\n",
       "      <td>Jackson</td>\n",
       "      <td>Doe</td>\n",
       "      <td>jacksondoe@gmail.com</td>\n",
       "    </tr>\n",
       "  </tbody>\n",
       "</table>\n",
       "</div>"
      ],
      "text/plain": [
       "     first     last                     email\n",
       "0  Pearson  Hardman  pearsonhardman@email.com\n",
       "1     John      Doe         johndoe@email.com\n",
       "2  Jackson      Doe      jacksondoe@gmail.com"
      ]
     },
     "execution_count": 3,
     "metadata": {},
     "output_type": "execute_result"
    }
   ],
   "source": [
    "dataframe = pd.DataFrame(data, columns=data.keys())\n",
    "dataframe"
   ]
  },
  {
   "cell_type": "code",
   "execution_count": 4,
   "id": "988ec4bd",
   "metadata": {},
   "outputs": [
    {
     "data": {
      "text/html": [
       "<div>\n",
       "<style scoped>\n",
       "    .dataframe tbody tr th:only-of-type {\n",
       "        vertical-align: middle;\n",
       "    }\n",
       "\n",
       "    .dataframe tbody tr th {\n",
       "        vertical-align: top;\n",
       "    }\n",
       "\n",
       "    .dataframe thead th {\n",
       "        text-align: right;\n",
       "    }\n",
       "</style>\n",
       "<table border=\"1\" class=\"dataframe\">\n",
       "  <thead>\n",
       "    <tr style=\"text-align: right;\">\n",
       "      <th></th>\n",
       "      <th>first</th>\n",
       "      <th>last</th>\n",
       "      <th>email</th>\n",
       "    </tr>\n",
       "  </thead>\n",
       "  <tbody>\n",
       "    <tr>\n",
       "      <th>0</th>\n",
       "      <td>Pearson</td>\n",
       "      <td>Hardman</td>\n",
       "      <td>pearsonhardman@email.com</td>\n",
       "    </tr>\n",
       "    <tr>\n",
       "      <th>1</th>\n",
       "      <td>John</td>\n",
       "      <td>Doe</td>\n",
       "      <td>johndoe@email.com</td>\n",
       "    </tr>\n",
       "    <tr>\n",
       "      <th>2</th>\n",
       "      <td>Jackson</td>\n",
       "      <td>Doe</td>\n",
       "      <td>jacksondoe@gmail.com</td>\n",
       "    </tr>\n",
       "    <tr>\n",
       "      <th>3</th>\n",
       "      <td>Nicolas</td>\n",
       "      <td>Cage</td>\n",
       "      <td>cagenicolas@email.com</td>\n",
       "    </tr>\n",
       "  </tbody>\n",
       "</table>\n",
       "</div>"
      ],
      "text/plain": [
       "     first     last                     email\n",
       "0  Pearson  Hardman  pearsonhardman@email.com\n",
       "1     John      Doe         johndoe@email.com\n",
       "2  Jackson      Doe      jacksondoe@gmail.com\n",
       "3  Nicolas     Cage     cagenicolas@email.com"
      ]
     },
     "execution_count": 4,
     "metadata": {},
     "output_type": "execute_result"
    }
   ],
   "source": [
    "# -- add one row at the bottom of the table.\n",
    "\n",
    "dataframe.loc[len(dataframe.index)] = [\"Nicolas\", \n",
    "                                       \"Cage\", \n",
    "                                       \"cagenicolas@email.com\"\n",
    "                                      ]\n",
    "dataframe"
   ]
  },
  {
   "cell_type": "code",
   "execution_count": 5,
   "id": "fdeb9e43",
   "metadata": {},
   "outputs": [],
   "source": [
    "# -- drop some specific row\n",
    "\n",
    "# dataframe.drop(labels=3, axis = 0, inplace = True)\n",
    "# dataframe"
   ]
  },
  {
   "cell_type": "code",
   "execution_count": 6,
   "id": "25b39592",
   "metadata": {},
   "outputs": [
    {
     "data": {
      "text/html": [
       "<div>\n",
       "<style scoped>\n",
       "    .dataframe tbody tr th:only-of-type {\n",
       "        vertical-align: middle;\n",
       "    }\n",
       "\n",
       "    .dataframe tbody tr th {\n",
       "        vertical-align: top;\n",
       "    }\n",
       "\n",
       "    .dataframe thead th {\n",
       "        text-align: right;\n",
       "    }\n",
       "</style>\n",
       "<table border=\"1\" class=\"dataframe\">\n",
       "  <thead>\n",
       "    <tr style=\"text-align: right;\">\n",
       "      <th></th>\n",
       "      <th>first</th>\n",
       "      <th>last</th>\n",
       "      <th>email</th>\n",
       "    </tr>\n",
       "  </thead>\n",
       "  <tbody>\n",
       "    <tr>\n",
       "      <th>0</th>\n",
       "      <td>Pearson</td>\n",
       "      <td>Hardman</td>\n",
       "      <td>pearsonhardman@email.com</td>\n",
       "    </tr>\n",
       "    <tr>\n",
       "      <th>1</th>\n",
       "      <td>John</td>\n",
       "      <td>Doe</td>\n",
       "      <td>johndoe@email.com</td>\n",
       "    </tr>\n",
       "    <tr>\n",
       "      <th>2</th>\n",
       "      <td>Jackson</td>\n",
       "      <td>Doe</td>\n",
       "      <td>jacksondoe@gmail.com</td>\n",
       "    </tr>\n",
       "    <tr>\n",
       "      <th>3</th>\n",
       "      <td>Nicolas</td>\n",
       "      <td>Cage</td>\n",
       "      <td>cagenicolas@email.com</td>\n",
       "    </tr>\n",
       "    <tr>\n",
       "      <th>4</th>\n",
       "      <td>Optimus</td>\n",
       "      <td>Prime</td>\n",
       "      <td>iamprime@email.com</td>\n",
       "    </tr>\n",
       "    <tr>\n",
       "      <th>5</th>\n",
       "      <td>Rock</td>\n",
       "      <td>Johnson</td>\n",
       "      <td>therockjohnson@email.com</td>\n",
       "    </tr>\n",
       "  </tbody>\n",
       "</table>\n",
       "</div>"
      ],
      "text/plain": [
       "     first     last                     email\n",
       "0  Pearson  Hardman  pearsonhardman@email.com\n",
       "1     John      Doe         johndoe@email.com\n",
       "2  Jackson      Doe      jacksondoe@gmail.com\n",
       "3  Nicolas     Cage     cagenicolas@email.com\n",
       "4  Optimus    Prime        iamprime@email.com\n",
       "5     Rock  Johnson  therockjohnson@email.com"
      ]
     },
     "execution_count": 6,
     "metadata": {},
     "output_type": "execute_result"
    }
   ],
   "source": [
    "# -- add some new rows --\n",
    "\n",
    "new_rows = [{'first': \"Optimus\", 'last': \"Prime\", 'email': \"iamprime@email.com\"},\n",
    "            {'first': \"Rock\", 'last': \"Johnson\", 'email': \"therockjohnson@email.com\"}\n",
    "           ]\n",
    "\n",
    "dataframe = dataframe.append(new_rows, ignore_index=True)\n",
    "dataframe"
   ]
  },
  {
   "cell_type": "markdown",
   "id": "db0c7d90",
   "metadata": {},
   "source": [
    "## Filters in Pandas."
   ]
  },
  {
   "cell_type": "markdown",
   "id": "28ae4c1c",
   "metadata": {},
   "source": [
    "- ___Retriving all the rows where last name is Doe___."
   ]
  },
  {
   "cell_type": "code",
   "execution_count": 15,
   "id": "044c2bf7",
   "metadata": {},
   "outputs": [
    {
     "data": {
      "text/html": [
       "<div>\n",
       "<style scoped>\n",
       "    .dataframe tbody tr th:only-of-type {\n",
       "        vertical-align: middle;\n",
       "    }\n",
       "\n",
       "    .dataframe tbody tr th {\n",
       "        vertical-align: top;\n",
       "    }\n",
       "\n",
       "    .dataframe thead th {\n",
       "        text-align: right;\n",
       "    }\n",
       "</style>\n",
       "<table border=\"1\" class=\"dataframe\">\n",
       "  <thead>\n",
       "    <tr style=\"text-align: right;\">\n",
       "      <th></th>\n",
       "      <th>first</th>\n",
       "      <th>last</th>\n",
       "      <th>email</th>\n",
       "    </tr>\n",
       "  </thead>\n",
       "  <tbody>\n",
       "    <tr>\n",
       "      <th>1</th>\n",
       "      <td>John</td>\n",
       "      <td>Doe</td>\n",
       "      <td>johndoe@email.com</td>\n",
       "    </tr>\n",
       "    <tr>\n",
       "      <th>2</th>\n",
       "      <td>Jackson</td>\n",
       "      <td>Doe</td>\n",
       "      <td>jacksondoe@gmail.com</td>\n",
       "    </tr>\n",
       "  </tbody>\n",
       "</table>\n",
       "</div>"
      ],
      "text/plain": [
       "     first last                 email\n",
       "1     John  Doe     johndoe@email.com\n",
       "2  Jackson  Doe  jacksondoe@gmail.com"
      ]
     },
     "execution_count": 15,
     "metadata": {},
     "output_type": "execute_result"
    }
   ],
   "source": [
    "# -- naive way to get the filtered data:\n",
    "\n",
    "dataframe[dataframe['last'] == \"Doe\"]"
   ]
  },
  {
   "cell_type": "code",
   "execution_count": 11,
   "id": "ef982517",
   "metadata": {},
   "outputs": [
    {
     "data": {
      "text/html": [
       "<div>\n",
       "<style scoped>\n",
       "    .dataframe tbody tr th:only-of-type {\n",
       "        vertical-align: middle;\n",
       "    }\n",
       "\n",
       "    .dataframe tbody tr th {\n",
       "        vertical-align: top;\n",
       "    }\n",
       "\n",
       "    .dataframe thead th {\n",
       "        text-align: right;\n",
       "    }\n",
       "</style>\n",
       "<table border=\"1\" class=\"dataframe\">\n",
       "  <thead>\n",
       "    <tr style=\"text-align: right;\">\n",
       "      <th></th>\n",
       "      <th>first</th>\n",
       "      <th>last</th>\n",
       "      <th>email</th>\n",
       "    </tr>\n",
       "  </thead>\n",
       "  <tbody>\n",
       "    <tr>\n",
       "      <th>1</th>\n",
       "      <td>John</td>\n",
       "      <td>Doe</td>\n",
       "      <td>johndoe@email.com</td>\n",
       "    </tr>\n",
       "    <tr>\n",
       "      <th>2</th>\n",
       "      <td>Jackson</td>\n",
       "      <td>Doe</td>\n",
       "      <td>jacksondoe@gmail.com</td>\n",
       "    </tr>\n",
       "  </tbody>\n",
       "</table>\n",
       "</div>"
      ],
      "text/plain": [
       "     first last                 email\n",
       "1     John  Doe     johndoe@email.com\n",
       "2  Jackson  Doe  jacksondoe@gmail.com"
      ]
     },
     "execution_count": 11,
     "metadata": {},
     "output_type": "execute_result"
    }
   ],
   "source": [
    "# -- saving filter in a variable: basically a condition\n",
    "\n",
    "filt = (dataframe['last'] == \"Doe\")\n",
    "\n",
    "dataframe.loc[filt]"
   ]
  },
  {
   "cell_type": "markdown",
   "id": "93e32be9",
   "metadata": {},
   "source": [
    "- ___Get those email addresses whos last name is/was Doe___."
   ]
  },
  {
   "cell_type": "code",
   "execution_count": 16,
   "id": "0b53313b",
   "metadata": {},
   "outputs": [
    {
     "data": {
      "text/plain": [
       "1       johndoe@email.com\n",
       "2    jacksondoe@gmail.com\n",
       "Name: email, dtype: object"
      ]
     },
     "execution_count": 16,
     "metadata": {},
     "output_type": "execute_result"
    }
   ],
   "source": [
    "# dataframe:[filter, column_name]\n",
    "\n",
    "dataframe.loc[filt, 'email']"
   ]
  },
  {
   "cell_type": "markdown",
   "id": "3c30f269",
   "metadata": {},
   "source": [
    "- ___Retriving all the rows where last name is not Doe___."
   ]
  },
  {
   "cell_type": "code",
   "execution_count": 18,
   "id": "60b85b8a",
   "metadata": {},
   "outputs": [
    {
     "data": {
      "text/html": [
       "<div>\n",
       "<style scoped>\n",
       "    .dataframe tbody tr th:only-of-type {\n",
       "        vertical-align: middle;\n",
       "    }\n",
       "\n",
       "    .dataframe tbody tr th {\n",
       "        vertical-align: top;\n",
       "    }\n",
       "\n",
       "    .dataframe thead th {\n",
       "        text-align: right;\n",
       "    }\n",
       "</style>\n",
       "<table border=\"1\" class=\"dataframe\">\n",
       "  <thead>\n",
       "    <tr style=\"text-align: right;\">\n",
       "      <th></th>\n",
       "      <th>first</th>\n",
       "      <th>last</th>\n",
       "      <th>email</th>\n",
       "    </tr>\n",
       "  </thead>\n",
       "  <tbody>\n",
       "    <tr>\n",
       "      <th>0</th>\n",
       "      <td>Pearson</td>\n",
       "      <td>Hardman</td>\n",
       "      <td>pearsonhardman@email.com</td>\n",
       "    </tr>\n",
       "    <tr>\n",
       "      <th>3</th>\n",
       "      <td>Nicolas</td>\n",
       "      <td>Cage</td>\n",
       "      <td>cagenicolas@email.com</td>\n",
       "    </tr>\n",
       "    <tr>\n",
       "      <th>4</th>\n",
       "      <td>Optimus</td>\n",
       "      <td>Prime</td>\n",
       "      <td>iamprime@email.com</td>\n",
       "    </tr>\n",
       "    <tr>\n",
       "      <th>5</th>\n",
       "      <td>Rock</td>\n",
       "      <td>Johnson</td>\n",
       "      <td>therockjohnson@email.com</td>\n",
       "    </tr>\n",
       "  </tbody>\n",
       "</table>\n",
       "</div>"
      ],
      "text/plain": [
       "     first     last                     email\n",
       "0  Pearson  Hardman  pearsonhardman@email.com\n",
       "3  Nicolas     Cage     cagenicolas@email.com\n",
       "4  Optimus    Prime        iamprime@email.com\n",
       "5     Rock  Johnson  therockjohnson@email.com"
      ]
     },
     "execution_count": 18,
     "metadata": {},
     "output_type": "execute_result"
    }
   ],
   "source": [
    "# dataframe[~filt]\n",
    "\n",
    "dataframe.loc[~filt]    # <<- this one is much better than above."
   ]
  },
  {
   "cell_type": "code",
   "execution_count": 20,
   "id": "a86acd7d",
   "metadata": {},
   "outputs": [
    {
     "data": {
      "text/html": [
       "<div>\n",
       "<style scoped>\n",
       "    .dataframe tbody tr th:only-of-type {\n",
       "        vertical-align: middle;\n",
       "    }\n",
       "\n",
       "    .dataframe tbody tr th {\n",
       "        vertical-align: top;\n",
       "    }\n",
       "\n",
       "    .dataframe thead th {\n",
       "        text-align: right;\n",
       "    }\n",
       "</style>\n",
       "<table border=\"1\" class=\"dataframe\">\n",
       "  <thead>\n",
       "    <tr style=\"text-align: right;\">\n",
       "      <th></th>\n",
       "      <th>email</th>\n",
       "      <th>first</th>\n",
       "      <th>last</th>\n",
       "    </tr>\n",
       "  </thead>\n",
       "  <tbody>\n",
       "    <tr>\n",
       "      <th>0</th>\n",
       "      <td>pearsonhardman@email.com</td>\n",
       "      <td>Pearson</td>\n",
       "      <td>Hardman</td>\n",
       "    </tr>\n",
       "    <tr>\n",
       "      <th>3</th>\n",
       "      <td>cagenicolas@email.com</td>\n",
       "      <td>Nicolas</td>\n",
       "      <td>Cage</td>\n",
       "    </tr>\n",
       "    <tr>\n",
       "      <th>4</th>\n",
       "      <td>iamprime@email.com</td>\n",
       "      <td>Optimus</td>\n",
       "      <td>Prime</td>\n",
       "    </tr>\n",
       "    <tr>\n",
       "      <th>5</th>\n",
       "      <td>therockjohnson@email.com</td>\n",
       "      <td>Rock</td>\n",
       "      <td>Johnson</td>\n",
       "    </tr>\n",
       "  </tbody>\n",
       "</table>\n",
       "</div>"
      ],
      "text/plain": [
       "                      email    first     last\n",
       "0  pearsonhardman@email.com  Pearson  Hardman\n",
       "3     cagenicolas@email.com  Nicolas     Cage\n",
       "4        iamprime@email.com  Optimus    Prime\n",
       "5  therockjohnson@email.com     Rock  Johnson"
      ]
     },
     "execution_count": 20,
     "metadata": {},
     "output_type": "execute_result"
    }
   ],
   "source": [
    "# -- want to get email addresses, first and last name, where last name is not Doe.\n",
    "\n",
    "dataframe.loc[~filt, ['email', 'first', 'last']]"
   ]
  },
  {
   "cell_type": "markdown",
   "id": "db223d3d",
   "metadata": {},
   "source": [
    "## Filter with multiple conditions: Using Conditional Operators.\n",
    "\n",
    "- First name is John and last name is Doe.\n",
    "\n",
    "- First name isn't John and last name isn't Doe."
   ]
  },
  {
   "cell_type": "code",
   "execution_count": 37,
   "id": "30e55d2a",
   "metadata": {},
   "outputs": [
    {
     "data": {
      "text/html": [
       "<div>\n",
       "<style scoped>\n",
       "    .dataframe tbody tr th:only-of-type {\n",
       "        vertical-align: middle;\n",
       "    }\n",
       "\n",
       "    .dataframe tbody tr th {\n",
       "        vertical-align: top;\n",
       "    }\n",
       "\n",
       "    .dataframe thead th {\n",
       "        text-align: right;\n",
       "    }\n",
       "</style>\n",
       "<table border=\"1\" class=\"dataframe\">\n",
       "  <thead>\n",
       "    <tr style=\"text-align: right;\">\n",
       "      <th></th>\n",
       "      <th>first</th>\n",
       "      <th>last</th>\n",
       "      <th>email</th>\n",
       "    </tr>\n",
       "  </thead>\n",
       "  <tbody>\n",
       "    <tr>\n",
       "      <th>0</th>\n",
       "      <td>Pearson</td>\n",
       "      <td>Hardman</td>\n",
       "      <td>pearsonhardman@email.com</td>\n",
       "    </tr>\n",
       "    <tr>\n",
       "      <th>1</th>\n",
       "      <td>John</td>\n",
       "      <td>Doe</td>\n",
       "      <td>johndoe@email.com</td>\n",
       "    </tr>\n",
       "    <tr>\n",
       "      <th>2</th>\n",
       "      <td>Jackson</td>\n",
       "      <td>Doe</td>\n",
       "      <td>jacksondoe@gmail.com</td>\n",
       "    </tr>\n",
       "    <tr>\n",
       "      <th>3</th>\n",
       "      <td>Nicolas</td>\n",
       "      <td>Cage</td>\n",
       "      <td>cagenicolas@email.com</td>\n",
       "    </tr>\n",
       "    <tr>\n",
       "      <th>4</th>\n",
       "      <td>Optimus</td>\n",
       "      <td>Prime</td>\n",
       "      <td>iamprime@email.com</td>\n",
       "    </tr>\n",
       "    <tr>\n",
       "      <th>5</th>\n",
       "      <td>Rock</td>\n",
       "      <td>Johnson</td>\n",
       "      <td>therockjohnson@email.com</td>\n",
       "    </tr>\n",
       "  </tbody>\n",
       "</table>\n",
       "</div>"
      ],
      "text/plain": [
       "     first     last                     email\n",
       "0  Pearson  Hardman  pearsonhardman@email.com\n",
       "1     John      Doe         johndoe@email.com\n",
       "2  Jackson      Doe      jacksondoe@gmail.com\n",
       "3  Nicolas     Cage     cagenicolas@email.com\n",
       "4  Optimus    Prime        iamprime@email.com\n",
       "5     Rock  Johnson  therockjohnson@email.com"
      ]
     },
     "execution_count": 37,
     "metadata": {},
     "output_type": "execute_result"
    }
   ],
   "source": [
    "# -- First lest get the dataset we created.\n",
    "\n",
    "dataframe"
   ]
  },
  {
   "cell_type": "code",
   "execution_count": 30,
   "id": "97c6f0a1",
   "metadata": {},
   "outputs": [],
   "source": [
    "# First name is John and last name is Doe.\n",
    "get_john_doe = (dataframe['first'] == \"John\") & (dataframe['last'] == \"Doe\")\n",
    "\n",
    "# First name isn't John and last name isn't Doe.\n",
    "not_john_doe = (dataframe['first'] != \"John\") & (dataframe['last'] != \"Doe\")"
   ]
  },
  {
   "cell_type": "code",
   "execution_count": 31,
   "id": "593238a6",
   "metadata": {},
   "outputs": [
    {
     "data": {
      "text/html": [
       "<div>\n",
       "<style scoped>\n",
       "    .dataframe tbody tr th:only-of-type {\n",
       "        vertical-align: middle;\n",
       "    }\n",
       "\n",
       "    .dataframe tbody tr th {\n",
       "        vertical-align: top;\n",
       "    }\n",
       "\n",
       "    .dataframe thead th {\n",
       "        text-align: right;\n",
       "    }\n",
       "</style>\n",
       "<table border=\"1\" class=\"dataframe\">\n",
       "  <thead>\n",
       "    <tr style=\"text-align: right;\">\n",
       "      <th></th>\n",
       "      <th>first</th>\n",
       "      <th>last</th>\n",
       "      <th>email</th>\n",
       "    </tr>\n",
       "  </thead>\n",
       "  <tbody>\n",
       "    <tr>\n",
       "      <th>1</th>\n",
       "      <td>John</td>\n",
       "      <td>Doe</td>\n",
       "      <td>johndoe@email.com</td>\n",
       "    </tr>\n",
       "  </tbody>\n",
       "</table>\n",
       "</div>"
      ],
      "text/plain": [
       "  first last              email\n",
       "1  John  Doe  johndoe@email.com"
      ]
     },
     "execution_count": 31,
     "metadata": {},
     "output_type": "execute_result"
    }
   ],
   "source": [
    "dataframe.loc[get_john_doe]\n",
    "\n",
    "# dataframe.loc[multi_filt, 'email']"
   ]
  },
  {
   "cell_type": "code",
   "execution_count": 32,
   "id": "27d2be0f",
   "metadata": {},
   "outputs": [
    {
     "data": {
      "text/html": [
       "<div>\n",
       "<style scoped>\n",
       "    .dataframe tbody tr th:only-of-type {\n",
       "        vertical-align: middle;\n",
       "    }\n",
       "\n",
       "    .dataframe tbody tr th {\n",
       "        vertical-align: top;\n",
       "    }\n",
       "\n",
       "    .dataframe thead th {\n",
       "        text-align: right;\n",
       "    }\n",
       "</style>\n",
       "<table border=\"1\" class=\"dataframe\">\n",
       "  <thead>\n",
       "    <tr style=\"text-align: right;\">\n",
       "      <th></th>\n",
       "      <th>first</th>\n",
       "      <th>last</th>\n",
       "      <th>email</th>\n",
       "    </tr>\n",
       "  </thead>\n",
       "  <tbody>\n",
       "    <tr>\n",
       "      <th>0</th>\n",
       "      <td>Pearson</td>\n",
       "      <td>Hardman</td>\n",
       "      <td>pearsonhardman@email.com</td>\n",
       "    </tr>\n",
       "    <tr>\n",
       "      <th>3</th>\n",
       "      <td>Nicolas</td>\n",
       "      <td>Cage</td>\n",
       "      <td>cagenicolas@email.com</td>\n",
       "    </tr>\n",
       "    <tr>\n",
       "      <th>4</th>\n",
       "      <td>Optimus</td>\n",
       "      <td>Prime</td>\n",
       "      <td>iamprime@email.com</td>\n",
       "    </tr>\n",
       "    <tr>\n",
       "      <th>5</th>\n",
       "      <td>Rock</td>\n",
       "      <td>Johnson</td>\n",
       "      <td>therockjohnson@email.com</td>\n",
       "    </tr>\n",
       "  </tbody>\n",
       "</table>\n",
       "</div>"
      ],
      "text/plain": [
       "     first     last                     email\n",
       "0  Pearson  Hardman  pearsonhardman@email.com\n",
       "3  Nicolas     Cage     cagenicolas@email.com\n",
       "4  Optimus    Prime        iamprime@email.com\n",
       "5     Rock  Johnson  therockjohnson@email.com"
      ]
     },
     "execution_count": 32,
     "metadata": {},
     "output_type": "execute_result"
    }
   ],
   "source": [
    "dataframe.loc[not_john_doe]"
   ]
  },
  {
   "cell_type": "code",
   "execution_count": 34,
   "id": "7f3a7e41",
   "metadata": {},
   "outputs": [
    {
     "data": {
      "text/html": [
       "<div>\n",
       "<style scoped>\n",
       "    .dataframe tbody tr th:only-of-type {\n",
       "        vertical-align: middle;\n",
       "    }\n",
       "\n",
       "    .dataframe tbody tr th {\n",
       "        vertical-align: top;\n",
       "    }\n",
       "\n",
       "    .dataframe thead th {\n",
       "        text-align: right;\n",
       "    }\n",
       "</style>\n",
       "<table border=\"1\" class=\"dataframe\">\n",
       "  <thead>\n",
       "    <tr style=\"text-align: right;\">\n",
       "      <th></th>\n",
       "      <th>email</th>\n",
       "      <th>first</th>\n",
       "    </tr>\n",
       "  </thead>\n",
       "  <tbody>\n",
       "    <tr>\n",
       "      <th>0</th>\n",
       "      <td>pearsonhardman@email.com</td>\n",
       "      <td>Pearson</td>\n",
       "    </tr>\n",
       "    <tr>\n",
       "      <th>2</th>\n",
       "      <td>jacksondoe@gmail.com</td>\n",
       "      <td>Jackson</td>\n",
       "    </tr>\n",
       "    <tr>\n",
       "      <th>3</th>\n",
       "      <td>cagenicolas@email.com</td>\n",
       "      <td>Nicolas</td>\n",
       "    </tr>\n",
       "    <tr>\n",
       "      <th>4</th>\n",
       "      <td>iamprime@email.com</td>\n",
       "      <td>Optimus</td>\n",
       "    </tr>\n",
       "    <tr>\n",
       "      <th>5</th>\n",
       "      <td>therockjohnson@email.com</td>\n",
       "      <td>Rock</td>\n",
       "    </tr>\n",
       "  </tbody>\n",
       "</table>\n",
       "</div>"
      ],
      "text/plain": [
       "                      email    first\n",
       "0  pearsonhardman@email.com  Pearson\n",
       "2      jacksondoe@gmail.com  Jackson\n",
       "3     cagenicolas@email.com  Nicolas\n",
       "4        iamprime@email.com  Optimus\n",
       "5  therockjohnson@email.com     Rock"
      ]
     },
     "execution_count": 34,
     "metadata": {},
     "output_type": "execute_result"
    }
   ],
   "source": [
    "# -- we can also do such: to ignore first, last names John, Doe.\n",
    "# we get rest of the data.\n",
    "\n",
    "dataframe.loc[~get_john_doe, ['email', 'first']]"
   ]
  },
  {
   "cell_type": "markdown",
   "id": "362c2063",
   "metadata": {},
   "source": [
    "- ___First name is Rock or last name is Doe___."
   ]
  },
  {
   "cell_type": "code",
   "execution_count": 35,
   "id": "6ee8d1fe",
   "metadata": {},
   "outputs": [
    {
     "data": {
      "text/html": [
       "<div>\n",
       "<style scoped>\n",
       "    .dataframe tbody tr th:only-of-type {\n",
       "        vertical-align: middle;\n",
       "    }\n",
       "\n",
       "    .dataframe tbody tr th {\n",
       "        vertical-align: top;\n",
       "    }\n",
       "\n",
       "    .dataframe thead th {\n",
       "        text-align: right;\n",
       "    }\n",
       "</style>\n",
       "<table border=\"1\" class=\"dataframe\">\n",
       "  <thead>\n",
       "    <tr style=\"text-align: right;\">\n",
       "      <th></th>\n",
       "      <th>first</th>\n",
       "      <th>last</th>\n",
       "      <th>email</th>\n",
       "    </tr>\n",
       "  </thead>\n",
       "  <tbody>\n",
       "    <tr>\n",
       "      <th>1</th>\n",
       "      <td>John</td>\n",
       "      <td>Doe</td>\n",
       "      <td>johndoe@email.com</td>\n",
       "    </tr>\n",
       "    <tr>\n",
       "      <th>2</th>\n",
       "      <td>Jackson</td>\n",
       "      <td>Doe</td>\n",
       "      <td>jacksondoe@gmail.com</td>\n",
       "    </tr>\n",
       "    <tr>\n",
       "      <th>5</th>\n",
       "      <td>Rock</td>\n",
       "      <td>Johnson</td>\n",
       "      <td>therockjohnson@email.com</td>\n",
       "    </tr>\n",
       "  </tbody>\n",
       "</table>\n",
       "</div>"
      ],
      "text/plain": [
       "     first     last                     email\n",
       "1     John      Doe         johndoe@email.com\n",
       "2  Jackson      Doe      jacksondoe@gmail.com\n",
       "5     Rock  Johnson  therockjohnson@email.com"
      ]
     },
     "execution_count": 35,
     "metadata": {},
     "output_type": "execute_result"
    }
   ],
   "source": [
    "or_filt = (dataframe['first'] == \"Rock\") | (dataframe['last'] == \"Doe\")\n",
    "\n",
    "dataframe.loc[or_filt]"
   ]
  },
  {
   "cell_type": "code",
   "execution_count": 36,
   "id": "6095f414",
   "metadata": {},
   "outputs": [
    {
     "data": {
      "text/html": [
       "<div>\n",
       "<style scoped>\n",
       "    .dataframe tbody tr th:only-of-type {\n",
       "        vertical-align: middle;\n",
       "    }\n",
       "\n",
       "    .dataframe tbody tr th {\n",
       "        vertical-align: top;\n",
       "    }\n",
       "\n",
       "    .dataframe thead th {\n",
       "        text-align: right;\n",
       "    }\n",
       "</style>\n",
       "<table border=\"1\" class=\"dataframe\">\n",
       "  <thead>\n",
       "    <tr style=\"text-align: right;\">\n",
       "      <th></th>\n",
       "      <th>first</th>\n",
       "      <th>last</th>\n",
       "      <th>email</th>\n",
       "    </tr>\n",
       "  </thead>\n",
       "  <tbody>\n",
       "    <tr>\n",
       "      <th>0</th>\n",
       "      <td>Pearson</td>\n",
       "      <td>Hardman</td>\n",
       "      <td>pearsonhardman@email.com</td>\n",
       "    </tr>\n",
       "    <tr>\n",
       "      <th>3</th>\n",
       "      <td>Nicolas</td>\n",
       "      <td>Cage</td>\n",
       "      <td>cagenicolas@email.com</td>\n",
       "    </tr>\n",
       "    <tr>\n",
       "      <th>4</th>\n",
       "      <td>Optimus</td>\n",
       "      <td>Prime</td>\n",
       "      <td>iamprime@email.com</td>\n",
       "    </tr>\n",
       "  </tbody>\n",
       "</table>\n",
       "</div>"
      ],
      "text/plain": [
       "     first     last                     email\n",
       "0  Pearson  Hardman  pearsonhardman@email.com\n",
       "3  Nicolas     Cage     cagenicolas@email.com\n",
       "4  Optimus    Prime        iamprime@email.com"
      ]
     },
     "execution_count": 36,
     "metadata": {},
     "output_type": "execute_result"
    }
   ],
   "source": [
    "# again. getting opposite results of above.\n",
    "\n",
    "dataframe.loc[~or_filt]"
   ]
  },
  {
   "cell_type": "code",
   "execution_count": null,
   "id": "11c9d1bf",
   "metadata": {},
   "outputs": [],
   "source": []
  }
 ],
 "metadata": {
  "kernelspec": {
   "display_name": "Python 3",
   "language": "python",
   "name": "python3"
  },
  "language_info": {
   "codemirror_mode": {
    "name": "ipython",
    "version": 3
   },
   "file_extension": ".py",
   "mimetype": "text/x-python",
   "name": "python",
   "nbconvert_exporter": "python",
   "pygments_lexer": "ipython3",
   "version": "3.8.12"
  }
 },
 "nbformat": 4,
 "nbformat_minor": 5
}
