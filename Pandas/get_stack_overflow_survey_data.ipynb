{
 "cells": [
  {
   "cell_type": "code",
   "execution_count": 1,
   "id": "dbf0ced4",
   "metadata": {},
   "outputs": [],
   "source": [
    "import os\n",
    "\n",
    "from warnings import filterwarnings\n",
    "filterwarnings(\"ignore\")"
   ]
  },
  {
   "cell_type": "code",
   "execution_count": 4,
   "id": "cd4b6017",
   "metadata": {},
   "outputs": [
    {
     "name": "stderr",
     "output_type": "stream",
     "text": [
      "  % Total    % Received % Xferd  Average Speed   Time    Time     Time  Current\n",
      "                                 Dload  Upload   Total   Spent    Left  Speed\n",
      "\n",
      "  0     0    0     0    0     0      0      0 --:--:-- --:--:-- --:--:--     0\n",
      "  0     0    0     0    0     0      0      0 --:--:-- --:--:-- --:--:--     0\n",
      " 28 8618k   28 2444k    0     0  2150k      0  0:00:04  0:00:01  0:00:03 2150k\n",
      "100 8618k  100 8618k    0     0  4804k      0  0:00:01  0:00:01 --:--:-- 4803k\n"
     ]
    }
   ],
   "source": [
    "!curl -O https://info.stackoverflowsolutions.com/rs/719-EMH-566/images/stack-overflow-developer-survey-2021.zip"
   ]
  },
  {
   "cell_type": "code",
   "execution_count": 7,
   "id": "6ec4ee7b",
   "metadata": {},
   "outputs": [
    {
     "data": {
      "text/plain": [
       "['.ipynb_checkpoints',\n",
       " 'get_stack_overflow_survey_data.ipynb',\n",
       " 'stack-overflow-developer-survey-2021.zip']"
      ]
     },
     "execution_count": 7,
     "metadata": {},
     "output_type": "execute_result"
    }
   ],
   "source": [
    "os.listdir()"
   ]
  },
  {
   "cell_type": "code",
   "execution_count": 8,
   "id": "b4c09f4a",
   "metadata": {},
   "outputs": [
    {
     "name": "stdout",
     "output_type": "stream",
     "text": [
      "Archive:  stack-overflow-developer-survey-2021.zip\n",
      "  inflating: README_2021.txt         \n",
      "  inflating: so_survey_2021.pdf      \n",
      "  inflating: survey_results_public.csv  \n",
      "  inflating: survey_results_schema.csv  \n"
     ]
    }
   ],
   "source": [
    "!unzip stack-overflow-developer-survey-2021.zip"
   ]
  },
  {
   "cell_type": "code",
   "execution_count": 10,
   "id": "77bc76a7",
   "metadata": {},
   "outputs": [],
   "source": [
    "def del_original_zip(filename: str) -> None:\n",
    "    \"\"\" removing original zip since we have unziped the data from it. \"\"\"\n",
    "    \n",
    "    if not os.path.isfile(filename):\n",
    "        print(\"Enter valid filename to remove.\")\n",
    "        \n",
    "    elif os.path.isfile(zipfile):\n",
    "        try:\n",
    "            os.remove(zipfile)\n",
    "        except OSError as error:\n",
    "            print(f\"Error: {error.filename} | {error.strerror}\")\n",
    "    return"
   ]
  },
  {
   "cell_type": "code",
   "execution_count": 11,
   "id": "e0a45439",
   "metadata": {},
   "outputs": [],
   "source": [
    "zipfile = \"stack-overflow-developer-survey-2021.zip\"\n",
    "\n",
    "del_original_zip(\"stack-overflow-developer-survey-2021.zip\")"
   ]
  },
  {
   "cell_type": "code",
   "execution_count": 12,
   "id": "31fe19c4",
   "metadata": {},
   "outputs": [
    {
     "data": {
      "text/plain": [
       "['.ipynb_checkpoints',\n",
       " 'get_stack_overflow_survey_data.ipynb',\n",
       " 'README_2021.txt',\n",
       " 'so_survey_2021.pdf',\n",
       " 'survey_results_public.csv',\n",
       " 'survey_results_schema.csv']"
      ]
     },
     "execution_count": 12,
     "metadata": {},
     "output_type": "execute_result"
    }
   ],
   "source": [
    "os.listdir()"
   ]
  },
  {
   "cell_type": "code",
   "execution_count": null,
   "id": "5927796c",
   "metadata": {},
   "outputs": [],
   "source": []
  }
 ],
 "metadata": {
  "kernelspec": {
   "display_name": "Python 3",
   "language": "python",
   "name": "python3"
  },
  "language_info": {
   "codemirror_mode": {
    "name": "ipython",
    "version": 3
   },
   "file_extension": ".py",
   "mimetype": "text/x-python",
   "name": "python",
   "nbconvert_exporter": "python",
   "pygments_lexer": "ipython3",
   "version": "3.8.12"
  }
 },
 "nbformat": 4,
 "nbformat_minor": 5
}
